{
 "cells": [
  {
   "cell_type": "markdown",
   "metadata": {},
   "source": [
    "# Self-Driving Car Engineer Nanodegree\n",
    "\n",
    "\n",
    "## Project: **Finding Lane Lines on the Road** \n",
    "***\n",
    "In this project, you will use the tools you learned about in the lesson to identify lane lines on the road.  You can develop your pipeline on a series of individual images, and later apply the result to a video stream (really just a series of images). Check out the video clip \"raw-lines-example.mp4\" (also contained in this repository) to see what the output should look like after using the helper functions below. \n",
    "\n",
    "Once you have a result that looks roughly like \"raw-lines-example.mp4\", you'll need to get creative and try to average and/or extrapolate the line segments you've detected to map out the full extent of the lane lines.  You can see an example of the result you're going for in the video \"P1_example.mp4\".  Ultimately, you would like to draw just one line for the left side of the lane, and one for the right.\n",
    "\n",
    "In addition to implementing code, there is a brief writeup to complete. The writeup should be completed in a separate file, which can be either a markdown file or a pdf document. There is a [write up template](https://github.com/udacity/CarND-LaneLines-P1/blob/master/writeup_template.md) that can be used to guide the writing process. Completing both the code in the Ipython notebook and the writeup template will cover all of the [rubric points](https://review.udacity.com/#!/rubrics/322/view) for this project.\n",
    "\n",
    "---\n",
    "Let's have a look at our first image called 'test_images/solidWhiteRight.jpg'.  Run the 2 cells below (hit Shift-Enter or the \"play\" button above) to display the image.\n",
    "\n",
    "**Note: If, at any point, you encounter frozen display windows or other confounding issues, you can always start again with a clean slate by going to the \"Kernel\" menu above and selecting \"Restart & Clear Output\".**\n",
    "\n",
    "---"
   ]
  },
  {
   "cell_type": "markdown",
   "metadata": {},
   "source": [
    "**The tools you have are color selection, region of interest selection, grayscaling, Gaussian smoothing, Canny Edge Detection and Hough Tranform line detection.  You  are also free to explore and try other techniques that were not presented in the lesson.  Your goal is piece together a pipeline to detect the line segments in the image, then average/extrapolate them and draw them onto the image for display (as below).  Once you have a working pipeline, try it out on the video stream below.**\n",
    "\n",
    "---\n",
    "\n",
    "<figure>\n",
    " <img src=\"examples/line-segments-example.jpg\" width=\"380\" alt=\"Combined Image\" />\n",
    " <figcaption>\n",
    " <p></p> \n",
    " <p style=\"text-align: center;\"> Your output should look something like this (above) after detecting line segments using the helper functions below </p> \n",
    " </figcaption>\n",
    "</figure>\n",
    " <p></p> \n",
    "<figure>\n",
    " <img src=\"examples/laneLines_thirdPass.jpg\" width=\"380\" alt=\"Combined Image\" />\n",
    " <figcaption>\n",
    " <p></p> \n",
    " <p style=\"text-align: center;\"> Your goal is to connect/average/extrapolate line segments to get output like this</p> \n",
    " </figcaption>\n",
    "</figure>"
   ]
  },
  {
   "cell_type": "markdown",
   "metadata": {},
   "source": [
    "**Run the cell below to import some packages.  If you get an `import error` for a package you've already installed, try changing your kernel (select the Kernel menu above --> Change Kernel).  Still have problems?  Try relaunching Jupyter Notebook from the terminal prompt.  Also, see [this forum post](https://carnd-forums.udacity.com/cq/viewquestion.action?spaceKey=CAR&id=29496372&questionTitle=finding-lanes---import-cv2-fails-even-though-python-in-the-terminal-window-has-no-problem-with-import-cv2) for more troubleshooting tips.**  "
   ]
  },
  {
   "cell_type": "markdown",
   "metadata": {},
   "source": [
    "## Import Packages"
   ]
  },
  {
   "cell_type": "code",
   "execution_count": 1,
   "metadata": {
    "collapsed": true
   },
   "outputs": [],
   "source": [
    "#importing some useful packages\n",
    "import matplotlib.pyplot as plt\n",
    "import matplotlib.image as mpimg\n",
    "import numpy as np\n",
    "import cv2\n",
    "%matplotlib inline"
   ]
  },
  {
   "cell_type": "markdown",
   "metadata": {},
   "source": [
    "## Helper Functions"
   ]
  },
  {
   "cell_type": "markdown",
   "metadata": {},
   "source": [
    "Below are some helper functions to help get you started. They should look familiar from the lesson!"
   ]
  },
  {
   "cell_type": "code",
   "execution_count": 11,
   "metadata": {
    "collapsed": true
   },
   "outputs": [],
   "source": [
    "import math\n",
    "\n",
    "\n",
    "def grayscale(img):\n",
    "    \"\"\"Applies the Grayscale transform\n",
    "    This will return an image with only one color channel\n",
    "    but NOTE: to see the returned image as grayscale\n",
    "    (assuming your grayscaled image is called 'gray')\n",
    "    you should call plt.imshow(gray, cmap='gray')\"\"\"\n",
    "    return cv2.cvtColor(img, cv2.COLOR_RGB2GRAY)\n",
    "    # Or use BGR2GRAY if you read an image with cv2.imread()\n",
    "    # return cv2.cvtColor(img, cv2.COLOR_BGR2GRAY)\n",
    "    \n",
    "def canny(img, low_threshold, high_threshold):\n",
    "    \"\"\"Applies the Canny transform\"\"\"\n",
    "    return cv2.Canny(img, low_threshold, high_threshold)\n",
    "\n",
    "def gaussian_blur(img, kernel_size):\n",
    "    \"\"\"Applies a Gaussian Noise kernel\"\"\"\n",
    "    return cv2.GaussianBlur(img, (kernel_size, kernel_size), 0)\n",
    "\n",
    "def region_of_interest(img, vertices):\n",
    "    \"\"\"\n",
    "    Applies an image mask.\n",
    "    \n",
    "    Only keeps the region of the image defined by the polygon\n",
    "    formed from `vertices`. The rest of the image is set to black.\n",
    "    \"\"\"\n",
    "    #defining a blank mask to start with\n",
    "    mask = np.zeros_like(img)   \n",
    "    \n",
    "    #defining a 3 channel or 1 channel color to fill the mask with depending on the input image\n",
    "    if len(img.shape) > 2:\n",
    "        channel_count = img.shape[2]  # i.e. 3 or 4 depending on your image\n",
    "        ignore_mask_color = (255,) * channel_count\n",
    "    else:\n",
    "        ignore_mask_color = 255\n",
    "        \n",
    "    #filling pixels inside the polygon defined by \"vertices\" with the fill color    \n",
    "    cv2.fillPoly(mask, vertices, ignore_mask_color)\n",
    "    \n",
    "    #returning the image only where mask pixels are nonzero\n",
    "    masked_image = cv2.bitwise_and(img, mask)\n",
    "    return masked_image\n",
    "\n",
    "def draw_lines(img, lines, color=[255, 0, 0], thickness=2):\n",
    "    \"\"\"\n",
    "    NOTE: this is the function you might want to use as a starting point once you want to \n",
    "    average/extrapolate the line segments you detect to map out the full\n",
    "    extent of the lane (going from the result shown in raw-lines-example.mp4\n",
    "    to that shown in P1_example.mp4).  \n",
    "    \n",
    "    Think about things like separating line segments by their \n",
    "    slope ((y2-y1)/(x2-x1)) to decide which segments are part of the left\n",
    "    line vs. the right line.  Then, you can average the position of each of \n",
    "    the lines and extrapolate to the top and bottom of the lane.\n",
    "    \n",
    "    This function draws `lines` with `color` and `thickness`.    \n",
    "    Lines are drawn on the image inplace (mutates the image).\n",
    "    If you want to make the lines semi-transparent, think about combining\n",
    "    this function with the weighted_img() function below\n",
    "    \"\"\"\n",
    "    for line in lines:\n",
    "        for x1,y1,x2,y2 in line:\n",
    "            cv2.line(img, (x1, y1), (x2, y2), color, thickness)\n",
    "            \n",
    "def separate_lines(img, lines, color=[255, 0, 0], thickness=10):\n",
    "#     print(lines)\n",
    "\n",
    "#definition of global variables used for the moving average\n",
    "    global slopes_right \n",
    "    global slopes_left\n",
    "    global bias_right\n",
    "    global bias_left\n",
    "    \n",
    "    imshape = img.shape  #get the shape of the video frame\n",
    "    \n",
    "#initialize global variables with safe values     \n",
    "    bias_right_avg = 0\n",
    "    bias_left_avg = 0\n",
    "    slopes_right_avg = 1\n",
    "    slopes_left_avg = 1\n",
    "    \n",
    "#initialize lists that will contain the separeted right and left lines  \n",
    "    right_lines = []\n",
    "    left_lines = []\n",
    "\n",
    "    for line in lines: # separate the lines based on their slope\n",
    "        for x1,y1,x2,y2 in line:\n",
    "            m = ((y2-y1)/(x2-x1))\n",
    "            if m > 0:\n",
    "                right_lines.append(line)\n",
    "            else:\n",
    "                left_lines.append(line)\n",
    "\n",
    "    if len(right_lines) is not 0:   #process right lines, get the average slope and bias\n",
    "        avg_right = (sum(right_lines) / len(right_lines))\n",
    "        for x1,y1,x2,y2 in avg_right:\n",
    "            slopeR = (y2 - y1) / (x2 - x1)  #get the average slope\n",
    "            b = slopeR * (-x1) + y1  #get the average bias \n",
    "            slopes_right = np.insert(slopes_right,0,slopeR)  # save the slopes for the moving average\n",
    "            slopes_right = slopes_right[-size_avg:]     # remember only the slops form the last size_avg frames   \n",
    "            bias_right = np.insert(bias_right,0,b)  # save the biases for the moving average\n",
    "            bias_right = bias_right[-size_avg:]  # remember only the biases form the last size_avg frames \n",
    "\n",
    "\n",
    "\n",
    "    bias_right_avg = bias_right.mean() # get the bias moving average\n",
    "    slopes_right_avg = slopes_right.mean() # get the slope moving average\n",
    "    y0 = imshape[0] - imshape[0]/2.5   #define initial y coordinate intersect \n",
    "    yf =imshape[0]   #define final y coordinate intersect \n",
    "    x0 = (y0 - bias_right_avg) / slopes_right_avg  # calculate x intersects \n",
    "    xf = (yf - bias_right_avg) / slopes_right_avg\n",
    "    cv2.line(img, (int(x0), int(y0)), (int(xf), int(yf)), color, thickness) # draw the final averaged right line\n",
    "\n",
    " # same process repeated with left lines.        \n",
    "    if len(left_lines) is not 0:\n",
    "        avg_left = (sum(left_lines) / len(left_lines))\n",
    "        for x1,y1,x2,y2 in avg_left:\n",
    "            slopeL = (y2 - y1) / (x2 - x1)\n",
    "            b = slopeL * (-x1) + y1  \n",
    "            slopes_left = np.insert(slopes_left,0,slopeL)\n",
    "            slopes_left = slopes_left[-size_avg:]\n",
    "            bias_left = np.insert(bias_left,0,b)\n",
    "            bias_left = bias_left[-size_avg:]\n",
    "                   \n",
    "    slopes_left_avg =slopes_left.mean()\n",
    "    bias_left_avg =bias_left.mean()\n",
    "    y0 = imshape[0] - imshape[0]/2.5\n",
    "    yf =imshape[0]\n",
    "    x0 = (y0 - bias_left_avg) / slopes_left_avg\n",
    "    xf = (yf - bias_left_avg) / slopes_left_avg\n",
    "    cv2.line(img, (int(x0), int(y0)), (int(xf), int(yf)), color, thickness)\n",
    "    \n",
    "#     return prevR_slope, prevL_slope\n",
    "\n",
    "def hough_lines(img, rho, theta, threshold, min_line_len, max_line_gap):\n",
    "    \"\"\"\n",
    "    `img` should be the output of a Canny transform.\n",
    "        \n",
    "    Returns an image with hough lines drawn.\n",
    "    \"\"\"\n",
    "    #this helper function was modified to return 2 image arrays: one with the raw lines and one with the final separated (left, right), \n",
    "    #averarged and extrapolated lines\n",
    "    \n",
    "    lines = cv2.HoughLinesP(img, rho, theta, threshold, np.array([]), minLineLength=min_line_len, maxLineGap=max_line_gap)\n",
    "    line_img = np.zeros((img.shape[0], img.shape[1], 3), dtype=np.uint8)\n",
    "    sep_img = np.zeros((img.shape[0], img.shape[1], 3), dtype=np.uint8)\n",
    "    draw_lines(line_img, lines)\n",
    "    separate_lines(sep_img, lines)\n",
    "    return line_img, sep_img\n",
    "\n",
    "# Python 3 has support for cool math symbols.\n",
    "\n",
    "def weighted_img(img, initial_img, α=0.8, β=1., λ=0.):\n",
    "    \"\"\"\n",
    "    `img` is the output of the hough_lines(), An image with lines drawn on it.\n",
    "    Should be a blank image (all black) with lines drawn on it.\n",
    "    \n",
    "    `initial_img` should be the image before any processing.\n",
    "    \n",
    "    The result image is computed as follows:\n",
    "    \n",
    "    initial_img * α + img * β + λ\n",
    "    NOTE: initial_img and img must be the same shape!\n",
    "    \"\"\"\n",
    "    return cv2.addWeighted(initial_img, α, img, β, λ)\n",
    "\n",
    "def to_white_n_filter(img):\n",
    "    hsv = cv2.cvtColor(img, cv2.COLOR_BGR2HSV)\n",
    "    upper_yellow = np.array([100, 255, 255]) \n",
    "    lower_yellow = np.array([80, 100, 100]) \n",
    "    mask_inverse = cv2.inRange(hsv, lower_yellow, upper_yellow)    \n",
    "    masked_replace_white = cv2.addWeighted(img, 1, \\\n",
    "                                       cv2.cvtColor(mask_inverse, cv2.COLOR_GRAY2RGB), 1, 0)\n",
    "    red_threshold = 240\n",
    "    green_threshold = 240\n",
    "    blue_threshold = 240\n",
    "\n",
    "    rgb_threshold = [red_threshold, green_threshold, blue_threshold]\n",
    "        # Mask pixels below the threshold\n",
    "    color_thresholds = (masked_replace_white[:, :, 0] < rgb_threshold[0]) | \\\n",
    "                       (masked_replace_white[:, :, 1] < rgb_threshold[1]) | \\\n",
    "                       (masked_replace_white[:, :, 2] < rgb_threshold[2])\n",
    "            \n",
    "        # Mask color and region selection\n",
    "    masked_replace_white[color_thresholds] = [0, 0, 0]\n",
    "    # Color pixels red where both color and region selections met\n",
    "    masked_replace_white[~color_thresholds] = [255, 255, 255]\n",
    "    \n",
    "#     masked_edges = cv2.bitwise_and(edges, mask)\n",
    "    \n",
    "    return masked_replace_white"
   ]
  },
  {
   "cell_type": "markdown",
   "metadata": {},
   "source": [
    "## Test Images\n",
    "\n",
    "Build your pipeline to work on the images in the directory \"test_images\"  \n",
    "**You should make sure your pipeline works well on these images before you try the videos.**"
   ]
  },
  {
   "cell_type": "code",
   "execution_count": 3,
   "metadata": {},
   "outputs": [
    {
     "name": "stdout",
     "output_type": "stream",
     "text": [
      "['challenge_1.jpg', 'solidWhiteCurve.jpg', 'solidWhiteRight.jpg', 'solidYellowCurve.jpg', 'solidYellowCurve2.jpg', 'solidYellowLeft.jpg', 'whiteCarLaneSwitch.jpg']\n"
     ]
    }
   ],
   "source": [
    "# code to get only the list of images in the test directory\n",
    "import fnmatch\n",
    "import os\n",
    "dir_list= os.listdir('test_images/')\n",
    "img_list = []\n",
    "for file in dir_list :\n",
    "    if fnmatch.fnmatch(file, '*.jpg'):\n",
    "        img_list.append(file)\n",
    "print(img_list)\n"
   ]
  },
  {
   "cell_type": "markdown",
   "metadata": {},
   "source": [
    "## Build a Lane Finding Pipeline\n",
    "\n"
   ]
  },
  {
   "cell_type": "markdown",
   "metadata": {},
   "source": [
    "Build the pipeline and run your solution on all test_images. Make copies into the `test_images_output` directory, and you can use the images in your writeup report.\n",
    "\n",
    "Try tuning the various parameters, especially the low and high Canny thresholds as well as the Hough lines parameters."
   ]
  },
  {
   "cell_type": "code",
   "execution_count": 12,
   "metadata": {},
   "outputs": [
    {
     "name": "stdout",
     "output_type": "stream",
     "text": [
      "This image is: <class 'numpy.ndarray'> with dimensions: (540, 960, 3)\n"
     ]
    },
    {
     "data": {
      "text/plain": [
       "<matplotlib.image.AxesImage at 0x27cd68b3f98>"
      ]
     },
     "execution_count": 12,
     "metadata": {},
     "output_type": "execute_result"
    },
    {
     "data": {
      "image/png": "[encoded data removed]",
      "text/plain": [
       "<matplotlib.figure.Figure at 0x27cd6546be0>"
      ]
     },
     "metadata": {},
     "output_type": "display_data"
    }
   ],
   "source": [
    "# Initialize the global variables for the moving average, in this case take into acount only the actual value so no averaging  \n",
    "size_avg = 1  # size of the moving average filter\n",
    "\n",
    "# Initialize the slopes arrays, delete any values as they might affect the averaging\n",
    "slopes_right = np.ones(1)\n",
    "slopes_right = np.delete(slopes_right,0)\n",
    "slopes_left = np.ones(1)\n",
    "slopes_left = np.delete(slopes_left,0)\n",
    "\n",
    "bias_right = np.zeros(1)\n",
    "bias_right = np.delete(bias_right, 0)\n",
    "bias_left = np.zeros(1) \n",
    "bias_left = np.delete(bias_left, 0)\n",
    "\n",
    "# TODO: Build your pipeline that will draw lane lines on the test_images\n",
    "# then save them to the test_images directory.\n",
    "#reading in an image\n",
    "image = mpimg.imread('test_images/whiteCarLaneSwitch.jpg')\n",
    "\n",
    "\n",
    "import fnmatch\n",
    "import os\n",
    "# save only image files from the test_images folder\n",
    "dir_list= os.listdir('test_images/')\n",
    "img_list = []\n",
    "for file in dir_list :\n",
    "    if fnmatch.fnmatch(file, '*.jpg'):\n",
    "        img_list.append(file)\n",
    "\n",
    "#choose the desired image file to process\n",
    "file = img_list[3]\n",
    "    \n",
    "image = mpimg.imread('test_images/' + file)\n",
    "\n",
    "#printing out some stats and plotting\n",
    "print('This image is:', type(image), 'with dimensions:', image.shape)\n",
    "\n",
    "white_img = to_white_n_filter(image)  #change any yellow pixel to white and filter the rest of the colors\n",
    "    \n",
    "gray_img = grayscale(white_img)  # convert to grayscale\n",
    "\n",
    "smooth_img = gaussian_blur(gray_img, 5)  # apply gaussian smoothing\n",
    "\n",
    "edges_img = canny(smooth_img, 40, 120)  # detect edges\n",
    "\n",
    "imshape = image.shape\n",
    "\n",
    "y_lim = 320  # set the y coordnate limit for the region of interest \n",
    "vertices = np.array([[(0,imshape[0]),(475, y_lim), (480, y_lim), (imshape[1],imshape[0])]], dtype=np.int32)\n",
    "masked_image = region_of_interest(edges_img, vertices)\n",
    "\n",
    "# save the image in each step of the pipeline to have a better understanding of the proccess and troubleshooting\n",
    "file_name = file.split('.')\n",
    "mpimg.imsave('test_images_output/' + file_name[0] + '_yellow.' + file_name[1] , white_img, cmap='gray', format='jpg')\n",
    "mpimg.imsave('test_images_output/' + file_name[0] + '_mask.' + file_name[1] , masked_image, cmap='gray', format='jpg')\n",
    "\n",
    "line_img,sep_img  = hough_lines(masked_image, rho=1, theta=np.pi/180, threshold=15, min_line_len=40, max_line_gap=20)\n",
    "mpimg.imsave('test_images_output/' + file_name[0] + '_line.' + file_name[1], line_img, cmap='gray', format='jpg')\n",
    "mpimg.imsave('test_images_output/' + file_name[0] + '_sep.' + file_name[1], sep_img, cmap='gray', format='jpg')\n",
    "\n",
    "final_img = weighted_img(line_img, image, α=0.8, β=1., λ=0.)\n",
    "mpimg.imsave('test_images_output/' + file, final_img, cmap='gray', format='jpg')\n",
    "\n",
    "avg_img = weighted_img(sep_img, image, α=0.8, β=1., λ=0.)\n",
    "mpimg.imsave('test_images_output/' + file_name[0] + '_avg.' + file_name[1], avg_img, cmap='gray', format='jpg')\n",
    "#     plt.figure()\n",
    "plt.imshow(avg_img)  #show the resulting image"
   ]
  },
  {
   "cell_type": "markdown",
   "metadata": {},
   "source": [
    "## Test on Videos\n",
    "\n",
    "You know what's cooler than drawing lanes over images? Drawing lanes over video!\n",
    "\n",
    "We can test our solution on two provided videos:\n",
    "\n",
    "`solidWhiteRight.mp4`\n",
    "\n",
    "`solidYellowLeft.mp4`\n",
    "\n",
    "**Note: if you get an `import error` when you run the next cell, try changing your kernel (select the Kernel menu above --> Change Kernel).  Still have problems?  Try relaunching Jupyter Notebook from the terminal prompt. Also, check out [this forum post](https://carnd-forums.udacity.com/questions/22677062/answers/22677109) for more troubleshooting tips.**\n",
    "\n",
    "**If you get an error that looks like this:**\n",
    "```\n",
    "NeedDownloadError: Need ffmpeg exe. \n",
    "You can download it by calling: \n",
    "imageio.plugins.ffmpeg.download()\n",
    "```\n",
    "**Follow the instructions in the error message and check out [this forum post](https://carnd-forums.udacity.com/display/CAR/questions/26218840/import-videofileclip-error) for more troubleshooting tips across operating systems.**"
   ]
  },
  {
   "cell_type": "code",
   "execution_count": 13,
   "metadata": {
    "collapsed": true
   },
   "outputs": [],
   "source": [
    "# Import everything needed to edit/save/watch video clips\n",
    "from moviepy.editor import VideoFileClip\n",
    "from IPython.display import HTML\n",
    "\n",
    "# the main process_image function, this one returns the final result \n",
    "# it contains the 7 steps described in the writeup \n",
    "def process_image(image):\n",
    "    # NOTE: The output you return should be a color image (3 channel) for processing video below\n",
    "    # TODO: put your pipeline here,\n",
    "    # you should return the final output (image where lines are drawn on lanes)\n",
    "    white_img = to_white_n_filter(image)  #change any yellow pixel to white and filter the rest of the colors\n",
    "    gray_img = grayscale(white_img)  # convert to grayscale\n",
    "    smooth_img = gaussian_blur(gray_img, 5) # apply gaussian smoothing\n",
    "    edges_img = canny(smooth_img, 40, 120)  # detect edges\n",
    "    imshape = image.shape\n",
    "    y_lim = 322  # y coordinate limit for the region of interest \n",
    "    vertices = np.array([[(0,imshape[0]),(475, y_lim), (480, y_lim), (imshape[1],imshape[0])]], dtype=np.int32)\n",
    "    masked_image = region_of_interest(edges_img, vertices)\n",
    "    \n",
    "    #this helper function was modified to return 2 image arrays: one with the raw lines and one with the final separated (left, right), \n",
    "    #averarged and extrapolated lines\n",
    "    line_img, sep_img  = hough_lines(masked_image, rho=3, theta=np.pi/180, threshold=15, min_line_len=40, max_line_gap=20)\n",
    "    #the desired returned result contains the averarged and extrapolated lines saved in sep_img\n",
    "    result = weighted_img(sep_img, image, α=0.8, β=1., λ=0.)\n",
    "\n",
    "    return result\n",
    "\n",
    "#additional process function to generate a video with raw lines. \n",
    "def process_image_line(image):\n",
    "    # NOTE: The output you return should be a color image (3 channel) for processing video below\n",
    "    # TODO: put your pipeline here,\n",
    "    # you should return the final output (image where lines are drawn on lanes)\n",
    "    gray_img = grayscale(image)\n",
    "    \n",
    "    smooth_img = gaussian_blur(gray_img, 5)\n",
    "    edges_img = canny(smooth_img, 40, 120)\n",
    "    imshape = image.shape\n",
    "    y_lim = 322\n",
    "    vertices = np.array([[(0,imshape[0]),(475, y_lim), (480, y_lim), (imshape[1],imshape[0])]], dtype=np.int32)\n",
    "    masked_image = region_of_interest(edges_img, vertices)\n",
    "    \n",
    "    line_img, sep_img  = hough_lines(masked_image, rho=3, theta=np.pi/180, threshold=15, min_line_len=40, max_line_gap=20)\n",
    "    result = weighted_img(line_img, image, α=0.8, β=1., λ=0.)\n",
    "\n",
    "    return result\n",
    "\n",
    "\n",
    "#additional process function to generate a video with the result of the canny edge detection, just for debugging. \n",
    "def process_image_gray(image):\n",
    "    # NOTE: The output you return should be a color image (3 channel) for processing video below\n",
    "    # TODO: put your pipeline here,\n",
    "    # you should return the final output (image where lines are drawn on lanes)\n",
    "    gray_img = grayscale(image)\n",
    "    \n",
    "    smooth_img = gaussian_blur(gray_img, 5)\n",
    "    result = canny(smooth_img, 40, 120)\n",
    "\n",
    "    return result"
   ]
  },
  {
   "cell_type": "markdown",
   "metadata": {},
   "source": [
    "Let's try the one with the solid white lane on the right first ..."
   ]
  },
  {
   "cell_type": "code",
   "execution_count": 14,
   "metadata": {
    "scrolled": false
   },
   "outputs": [
    {
     "name": "stdout",
     "output_type": "stream",
     "text": [
      "[MoviePy] >>>> Building video test_videos_output/solidWhiteRight.mp4\n",
      "[MoviePy] Writing video test_videos_output/solidWhiteRight.mp4\n"
     ]
    },
    {
     "name": "stderr",
     "output_type": "stream",
     "text": [
      "100%|███████████████████████████████████████████████████████████████████████████████▋| 221/222 [00:08<00:00, 26.08it/s]\n"
     ]
    },
    {
     "name": "stdout",
     "output_type": "stream",
     "text": [
      "[MoviePy] Done.\n",
      "[MoviePy] >>>> Video ready: test_videos_output/solidWhiteRight.mp4 \n",
      "\n",
      "Wall time: 9.18 s\n"
     ]
    },
    {
     "data": {
      "text/html": [
       "\n",
       "<video width=\"960\" height=\"540\" controls>\n",
       "  <source src=\"test_videos_output/solidWhiteRight.mp4\">\n",
       "</video>\n"
      ],
      "text/plain": [
       "<IPython.core.display.HTML object>"
      ]
     },
     "execution_count": 14,
     "metadata": {},
     "output_type": "execute_result"
    }
   ],
   "source": [
    "\n",
    "# Initialize the global variables for the moving average, in this case take into acount the 20 last frames for averaging  \n",
    "size_avg = 20  # size of the moving average filter\n",
    "\n",
    "# Initialize the slopes and bias arrays, delete any values as they might affect the averaging\n",
    "slopes_right = np.ones(1)\n",
    "slopes_right = np.delete(slopes_right,0)\n",
    "slopes_left = np.ones(1)\n",
    "slopes_left = np.delete(slopes_left,0)\n",
    "\n",
    "bias_right = np.zeros(1)\n",
    "bias_right = np.delete(bias_right, 0)\n",
    "bias_left = np.zeros(1) \n",
    "bias_left = np.delete(bias_left, 0)\n",
    "\n",
    "white_output = 'test_videos_output/solidWhiteRight.mp4'\n",
    "# white_output = 'test_videos_output/solidWhiteRight_line.mp4'\n",
    "## To speed up the testing process you may want to try your pipeline on a shorter subclip of the video\n",
    "## To do so add .subclip(start_second,end_second) to the end of the line below\n",
    "## Where start_second and end_second are integer values representing the start and end of the subclip\n",
    "## You may also uncomment the following line for a subclip of the first 5 seconds\n",
    "##clip1 = VideoFileClip(\"test_videos/solidWhiteRight.mp4\").subclip(0,5)\n",
    "clip1 = VideoFileClip(\"test_videos/solidWhiteRight.mp4\")\n",
    "white_clip = clip1.fl_image(process_image) #NOTE: this function expects color images!!\n",
    "%time white_clip.write_videofile(white_output, audio=False)\n",
    "\n",
    "HTML(\"\"\"\n",
    "<video width=\"960\" height=\"540\" controls>\n",
    "  <source src=\"{0}\">\n",
    "</video>\n",
    "\"\"\".format(white_output))\n"
   ]
  },
  {
   "cell_type": "markdown",
   "metadata": {},
   "source": [
    "Play the video inline, or if you prefer find the video in your filesystem (should be in the same directory) and play it in your video player of choice."
   ]
  },
  {
   "cell_type": "code",
   "execution_count": 15,
   "metadata": {},
   "outputs": [
    {
     "name": "stdout",
     "output_type": "stream",
     "text": [
      "[MoviePy] >>>> Building video test_videos_output/solidYellowLeft_line.mp4\n",
      "[MoviePy] Writing video test_videos_output/solidYellowLeft_line.mp4\n"
     ]
    },
    {
     "name": "stderr",
     "output_type": "stream",
     "text": [
      "100%|███████████████████████████████████████████████████████████████████████████████▉| 681/682 [00:27<00:00, 25.19it/s]\n"
     ]
    },
    {
     "name": "stdout",
     "output_type": "stream",
     "text": [
      "[MoviePy] Done.\n",
      "[MoviePy] >>>> Video ready: test_videos_output/solidYellowLeft_line.mp4 \n",
      "\n",
      "Wall time: 27.8 s\n"
     ]
    },
    {
     "data": {
      "text/html": [
       "\n",
       "<video width=\"960\" height=\"540\" controls>\n",
       "  <source src=\"test_videos_output/solidYellowLeft_line.mp4\">\n",
       "</video>\n"
      ],
      "text/plain": [
       "<IPython.core.display.HTML object>"
      ]
     },
     "execution_count": 15,
     "metadata": {},
     "output_type": "execute_result"
    }
   ],
   "source": [
    "# Initialize the global variables for the moving average, in this case take into acount the 20 last frames for averaging  \n",
    "size_avg = 20  # size of the moving average filter\n",
    "\n",
    "# Initialize the slopes and bias arrays, delete any values as they might affect the averaging\n",
    "slopes_right = np.ones(1)\n",
    "slopes_right = np.delete(slopes_right,0)\n",
    "slopes_left = np.ones(1)\n",
    "slopes_left = np.delete(slopes_left,0)\n",
    "\n",
    "bias_right = np.zeros(1)\n",
    "bias_right = np.delete(bias_right, 0)\n",
    "bias_left = np.zeros(1) \n",
    "bias_left = np.delete(bias_left, 0)\n",
    "\n",
    "yellow_output = 'test_videos_output/solidYellowLeft_line.mp4'\n",
    "\n",
    "## To speed up the testing process you may want to try your pipeline on a shorter subclip of the video\n",
    "## To do so add .subclip(start_second,end_second) to the end of the line below\n",
    "## Where start_second and end_second are integer values representing the start and end of the subclip\n",
    "## You may also uncomment the following line for a subclip of the first 5 seconds\n",
    "#clip1 = VideoFileClip(\"test_videos/solidWhiteRight.mp4\").subclip(0,5)\n",
    "clip2 = VideoFileClip(\"test_videos/solidYellowLeft.mp4\")\n",
    "white_clip = clip2.fl_image(process_image) #NOTE: this function expects color images!!\n",
    "%time white_clip.write_videofile(yellow_output, audio=False)\n",
    "\n",
    "HTML(\"\"\"\n",
    "<video width=\"960\" height=\"540\" controls>\n",
    "  <source src=\"{0}\">\n",
    "</video>\n",
    "\"\"\".format(yellow_output))"
   ]
  },
  {
   "cell_type": "markdown",
   "metadata": {},
   "source": [
    "Now for the one with the solid yellow lane on the left. This one's more tricky!"
   ]
  }
 ],
 "metadata": {
  "anaconda-cloud": {},
  "kernelspec": {
   "display_name": "Python 3",
   "language": "python",
   "name": "python3"
  },
  "language_info": {
   "codemirror_mode": {
    "name": "ipython",
    "version": 3
   },
   "file_extension": ".py",
   "mimetype": "text/x-python",
   "name": "python",
   "nbconvert_exporter": "python",
   "pygments_lexer": "ipython3",
   "version": "3.5.2"
  },
  "widgets": {
   "state": {},
   "version": "1.1.2"
  }
 },
 "nbformat": 4,
 "nbformat_minor": 1
}
